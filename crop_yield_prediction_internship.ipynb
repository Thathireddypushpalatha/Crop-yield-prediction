{
  "cells": [
    {
      "cell_type": "code",
      "source": [
        "#importing the required libraries\n",
        "import pandas as pd\n",
        "import numpy as np\n",
        "from sklearn.model_selection import train_test_split"
      ],
      "metadata": {
        "id": "C7WxT5eBmshp"
      },
      "execution_count": 53,
      "outputs": []
    },
    {
      "cell_type": "code",
      "source": [
        "#Reading the csv file\n",
        "data=pd.read_csv('/content/cpdata.csv')\n",
        "print(data.head(1))"
      ],
      "metadata": {
        "colab": {
          "base_uri": "https://localhost:8080/"
        },
        "id": "WNfAGtm5msxE",
        "outputId": "a783b86f-d75c-45cb-c951-8e82823b1a9f"
      },
      "execution_count": 54,
      "outputs": [
        {
          "output_type": "stream",
          "name": "stdout",
          "text": [
            "   temperature   humidity        ph    rainfall label\n",
            "0    20.879744  82.002744  6.502985  202.935536  rice\n"
          ]
        }
      ]
    },
    {
      "cell_type": "code",
      "source": [
        "#Creating dummy variable for target i.e label\n",
        "label= pd.get_dummies(data.label).iloc[: , 1:]\n",
        "data= pd.concat([data,label],axis=1)\n",
        "data.drop('label', axis=1,inplace=True)\n",
        "print('The data present in one row of the dataset is')\n",
        "print(data.head(1))\n",
        "train=data.iloc[:, 0:4].values\n",
        "test=data.iloc[: ,4:].values"
      ],
      "metadata": {
        "colab": {
          "base_uri": "https://localhost:8080/"
        },
        "id": "CWBU7r52ms1O",
        "outputId": "f56b488d-c354-439b-9857-8156915f662d"
      },
      "execution_count": 55,
      "outputs": [
        {
          "output_type": "stream",
          "name": "stdout",
          "text": [
            "The data present in one row of the dataset is\n",
            "   temperature   humidity        ph    rainfall  Black gram  Chickpea  \\\n",
            "0    20.879744  82.002744  6.502985  202.935536           0         0   \n",
            "\n",
            "   Coconut  Coffee  Cotton  Ground Nut  ...  maize  mango  millet  muskmelon  \\\n",
            "0        0       0       0           0  ...      0      0       0          0   \n",
            "\n",
            "   orange  papaya  pomegranate  rice  watermelon  wheat  \n",
            "0       0       0            0     1           0      0  \n",
            "\n",
            "[1 rows x 34 columns]\n"
          ]
        }
      ]
    },
    {
      "cell_type": "code",
      "source": [
        "#Dividing the data into training and test set\n",
        "X_train,X_test,y_train,y_test=train_test_split(train,test,test_size=0.3)\n"
      ],
      "metadata": {
        "id": "qlmydEh6ms4m"
      },
      "execution_count": 56,
      "outputs": []
    },
    {
      "cell_type": "code",
      "source": [
        "from sklearn.preprocessing import StandardScaler\n",
        "sc = StandardScaler()\n",
        "X_train = sc.fit_transform(X_train)\n",
        "X_test = sc.transform(X_test)"
      ],
      "metadata": {
        "id": "4usyV7Fgms7i"
      },
      "execution_count": 57,
      "outputs": []
    },
    {
      "cell_type": "code",
      "source": [
        "#Importing Decision Tree classifier\n",
        "from sklearn.tree import DecisionTreeRegressor\n",
        "clf=DecisionTreeRegressor()"
      ],
      "metadata": {
        "id": "U777RGx9ms_J"
      },
      "execution_count": 58,
      "outputs": []
    },
    {
      "cell_type": "code",
      "source": [
        "#Fitting the classifier into training set\n",
        "clf.fit(X_train,y_train)\n",
        "pred=clf.predict(X_test)"
      ],
      "metadata": {
        "id": "i7AV8-Jbn8JS"
      },
      "execution_count": 59,
      "outputs": []
    },
    {
      "cell_type": "code",
      "source": [
        "from sklearn.metrics import accuracy_score\n",
        "# Finding the accuracy of the model\n",
        "a=accuracy_score(y_test,pred)\n",
        "print(\"The accuracy of this model is: \", a*100)"
      ],
      "metadata": {
        "colab": {
          "base_uri": "https://localhost:8080/"
        },
        "id": "Q_o2drGEn8M0",
        "outputId": "2e0d5807-afad-42af-8627-6abd554bdf3f"
      },
      "execution_count": 60,
      "outputs": [
        {
          "output_type": "stream",
          "name": "stdout",
          "text": [
            "The accuracy of this model is:  90.10752688172043\n"
          ]
        }
      ]
    },
    {
      "cell_type": "code",
      "source": [
        "!pip install firebase"
      ],
      "metadata": {
        "colab": {
          "base_uri": "https://localhost:8080/"
        },
        "id": "QSw4BnKapCeu",
        "outputId": "73c3c4e8-0dee-404a-99b2-426b5d650fcb"
      },
      "execution_count": 12,
      "outputs": [
        {
          "output_type": "stream",
          "name": "stdout",
          "text": [
            "Looking in indexes: https://pypi.org/simple, https://us-python.pkg.dev/colab-wheels/public/simple/\n",
            "Collecting firebase\n",
            "  Downloading firebase-3.0.1-py3-none-any.whl (18 kB)\n",
            "Requirement already satisfied: requests in /usr/local/lib/python3.7/dist-packages (from firebase) (2.23.0)\n",
            "Requirement already satisfied: chardet<4,>=3.0.2 in /usr/local/lib/python3.7/dist-packages (from requests->firebase) (3.0.4)\n",
            "Requirement already satisfied: idna<3,>=2.5 in /usr/local/lib/python3.7/dist-packages (from requests->firebase) (2.10)\n",
            "Requirement already satisfied: urllib3!=1.25.0,!=1.25.1,<1.26,>=1.21.1 in /usr/local/lib/python3.7/dist-packages (from requests->firebase) (1.24.3)\n",
            "Requirement already satisfied: certifi>=2017.4.17 in /usr/local/lib/python3.7/dist-packages (from requests->firebase) (2022.9.24)\n",
            "Installing collected packages: firebase\n",
            "Successfully installed firebase-3.0.1\n"
          ]
        }
      ]
    },
    {
      "cell_type": "code",
      "source": [
        "!pip install  python_jwt"
      ],
      "metadata": {
        "colab": {
          "base_uri": "https://localhost:8080/"
        },
        "id": "l8uYCWLvpe1g",
        "outputId": "6f7fdbaa-db3f-4260-e67a-3518278f8989"
      },
      "execution_count": 14,
      "outputs": [
        {
          "output_type": "stream",
          "name": "stdout",
          "text": [
            "Looking in indexes: https://pypi.org/simple, https://us-python.pkg.dev/colab-wheels/public/simple/\n",
            "Collecting python_jwt\n",
            "  Downloading python_jwt-4.0.0-py2.py3-none-any.whl (7.0 kB)\n",
            "Collecting jwcrypto>=1.4.2\n",
            "  Downloading jwcrypto-1.4.2.tar.gz (85 kB)\n",
            "\u001b[K     |████████████████████████████████| 85 kB 2.3 MB/s \n",
            "\u001b[?25hCollecting cryptography>=2.3\n",
            "  Downloading cryptography-38.0.3-cp36-abi3-manylinux_2_24_x86_64.whl (4.1 MB)\n",
            "\u001b[K     |████████████████████████████████| 4.1 MB 40.7 MB/s \n",
            "\u001b[?25hCollecting deprecated\n",
            "  Downloading Deprecated-1.2.13-py2.py3-none-any.whl (9.6 kB)\n",
            "Requirement already satisfied: cffi>=1.12 in /usr/local/lib/python3.7/dist-packages (from cryptography>=2.3->jwcrypto>=1.4.2->python_jwt) (1.15.1)\n",
            "Requirement already satisfied: pycparser in /usr/local/lib/python3.7/dist-packages (from cffi>=1.12->cryptography>=2.3->jwcrypto>=1.4.2->python_jwt) (2.21)\n",
            "Requirement already satisfied: wrapt<2,>=1.10 in /usr/local/lib/python3.7/dist-packages (from deprecated->jwcrypto>=1.4.2->python_jwt) (1.14.1)\n",
            "Building wheels for collected packages: jwcrypto\n",
            "  Building wheel for jwcrypto (setup.py) ... \u001b[?25l\u001b[?25hdone\n",
            "  Created wheel for jwcrypto: filename=jwcrypto-1.4.2-py3-none-any.whl size=90486 sha256=51bce1e99cb84e5aa06c46016b9a3c00b100383506bcac52a3eabef5513a011d\n",
            "  Stored in directory: /root/.cache/pip/wheels/3d/17/91/970881ac21abbb42718c291ac9dce175450d53b17707788273\n",
            "Successfully built jwcrypto\n",
            "Installing collected packages: deprecated, cryptography, jwcrypto, python-jwt\n",
            "Successfully installed cryptography-38.0.3 deprecated-1.2.13 jwcrypto-1.4.2 python-jwt-4.0.0\n"
          ]
        }
      ]
    },
    {
      "cell_type": "code",
      "source": [
        "!pip install gcloud"
      ],
      "metadata": {
        "id": "ihQGYUZUpzE7",
        "outputId": "f3eec88f-21d6-4aed-9149-500cb2da74f4",
        "colab": {
          "base_uri": "https://localhost:8080/"
        }
      },
      "execution_count": 16,
      "outputs": [
        {
          "output_type": "stream",
          "name": "stdout",
          "text": [
            "Looking in indexes: https://pypi.org/simple, https://us-python.pkg.dev/colab-wheels/public/simple/\n",
            "Collecting gcloud\n",
            "  Downloading gcloud-0.18.3.tar.gz (454 kB)\n",
            "\u001b[K     |████████████████████████████████| 454 kB 5.3 MB/s \n",
            "\u001b[?25hRequirement already satisfied: httplib2>=0.9.1 in /usr/local/lib/python3.7/dist-packages (from gcloud) (0.17.4)\n",
            "Requirement already satisfied: googleapis-common-protos in /usr/local/lib/python3.7/dist-packages (from gcloud) (1.57.0)\n",
            "Requirement already satisfied: oauth2client>=2.0.1 in /usr/local/lib/python3.7/dist-packages (from gcloud) (4.1.3)\n",
            "Requirement already satisfied: protobuf!=3.0.0.b2.post1,>=3.0.0b2 in /usr/local/lib/python3.7/dist-packages (from gcloud) (3.19.6)\n",
            "Requirement already satisfied: six in /usr/local/lib/python3.7/dist-packages (from gcloud) (1.15.0)\n",
            "Requirement already satisfied: rsa>=3.1.4 in /usr/local/lib/python3.7/dist-packages (from oauth2client>=2.0.1->gcloud) (4.9)\n",
            "Requirement already satisfied: pyasn1>=0.1.7 in /usr/local/lib/python3.7/dist-packages (from oauth2client>=2.0.1->gcloud) (0.4.8)\n",
            "Requirement already satisfied: pyasn1-modules>=0.0.5 in /usr/local/lib/python3.7/dist-packages (from oauth2client>=2.0.1->gcloud) (0.2.8)\n",
            "Building wheels for collected packages: gcloud\n",
            "  Building wheel for gcloud (setup.py) ... \u001b[?25l\u001b[?25hdone\n",
            "  Created wheel for gcloud: filename=gcloud-0.18.3-py3-none-any.whl size=602936 sha256=c7dbaa8a58523bc69e089c1278a5fad5646b28cb9e9ac4950897e8a0f25ffd0e\n",
            "  Stored in directory: /root/.cache/pip/wheels/50/9d/19/dc1a639905431252dbf8a61388a83459c5cfef7add445bebe4\n",
            "Successfully built gcloud\n",
            "Installing collected packages: gcloud\n",
            "Successfully installed gcloud-0.18.3\n"
          ]
        }
      ]
    },
    {
      "cell_type": "code",
      "source": [
        "!pip install sseclient"
      ],
      "metadata": {
        "id": "x0flJs-IqEzB",
        "outputId": "44db4803-d527-4cab-aa88-6ac7e03f1037",
        "colab": {
          "base_uri": "https://localhost:8080/"
        }
      },
      "execution_count": 18,
      "outputs": [
        {
          "output_type": "stream",
          "name": "stdout",
          "text": [
            "Looking in indexes: https://pypi.org/simple, https://us-python.pkg.dev/colab-wheels/public/simple/\n",
            "Collecting sseclient\n",
            "  Downloading sseclient-0.0.27.tar.gz (7.5 kB)\n",
            "Requirement already satisfied: requests>=2.9 in /usr/local/lib/python3.7/dist-packages (from sseclient) (2.23.0)\n",
            "Requirement already satisfied: six in /usr/local/lib/python3.7/dist-packages (from sseclient) (1.15.0)\n",
            "Requirement already satisfied: certifi>=2017.4.17 in /usr/local/lib/python3.7/dist-packages (from requests>=2.9->sseclient) (2022.9.24)\n",
            "Requirement already satisfied: chardet<4,>=3.0.2 in /usr/local/lib/python3.7/dist-packages (from requests>=2.9->sseclient) (3.0.4)\n",
            "Requirement already satisfied: idna<3,>=2.5 in /usr/local/lib/python3.7/dist-packages (from requests>=2.9->sseclient) (2.10)\n",
            "Requirement already satisfied: urllib3!=1.25.0,!=1.25.1,<1.26,>=1.21.1 in /usr/local/lib/python3.7/dist-packages (from requests>=2.9->sseclient) (1.24.3)\n",
            "Building wheels for collected packages: sseclient\n",
            "  Building wheel for sseclient (setup.py) ... \u001b[?25l\u001b[?25hdone\n",
            "  Created wheel for sseclient: filename=sseclient-0.0.27-py3-none-any.whl size=5585 sha256=30a4b9b5e4f186f8bcb41cef7474c245b57efb8db31bd2d5ce13daa1286b1493\n",
            "  Stored in directory: /root/.cache/pip/wheels/07/67/7e/96edf627ac746de1a5c5cbb8d59ed960f033b8352dc12c545d\n",
            "Successfully built sseclient\n",
            "Installing collected packages: sseclient\n",
            "Successfully installed sseclient-0.0.27\n"
          ]
        }
      ]
    },
    {
      "cell_type": "code",
      "source": [
        "!pip install Crypto"
      ],
      "metadata": {
        "id": "INgzZ5ylqUF1",
        "outputId": "a74b3279-7a4b-4de9-ddd8-b935f51e33f1",
        "colab": {
          "base_uri": "https://localhost:8080/"
        }
      },
      "execution_count": 20,
      "outputs": [
        {
          "output_type": "stream",
          "name": "stdout",
          "text": [
            "Looking in indexes: https://pypi.org/simple, https://us-python.pkg.dev/colab-wheels/public/simple/\n",
            "Collecting Crypto\n",
            "  Downloading crypto-1.4.1-py2.py3-none-any.whl (18 kB)\n",
            "Collecting shellescape\n",
            "  Downloading shellescape-3.8.1-py2.py3-none-any.whl (3.1 kB)\n",
            "Collecting Naked\n",
            "  Downloading Naked-0.1.32-py2.py3-none-any.whl (587 kB)\n",
            "\u001b[K     |████████████████████████████████| 587 kB 6.1 MB/s \n",
            "\u001b[?25hRequirement already satisfied: requests in /usr/local/lib/python3.7/dist-packages (from Naked->Crypto) (2.23.0)\n",
            "Requirement already satisfied: pyyaml in /usr/local/lib/python3.7/dist-packages (from Naked->Crypto) (6.0)\n",
            "Requirement already satisfied: idna<3,>=2.5 in /usr/local/lib/python3.7/dist-packages (from requests->Naked->Crypto) (2.10)\n",
            "Requirement already satisfied: certifi>=2017.4.17 in /usr/local/lib/python3.7/dist-packages (from requests->Naked->Crypto) (2022.9.24)\n",
            "Requirement already satisfied: chardet<4,>=3.0.2 in /usr/local/lib/python3.7/dist-packages (from requests->Naked->Crypto) (3.0.4)\n",
            "Requirement already satisfied: urllib3!=1.25.0,!=1.25.1,<1.26,>=1.21.1 in /usr/local/lib/python3.7/dist-packages (from requests->Naked->Crypto) (1.24.3)\n",
            "Installing collected packages: shellescape, Naked, Crypto\n",
            "Successfully installed Crypto-1.4.1 Naked-0.1.32 shellescape-3.8.1\n"
          ]
        }
      ]
    },
    {
      "cell_type": "code",
      "source": [
        "pip install pycrypto"
      ],
      "metadata": {
        "id": "mIeJwI0j6QuA",
        "outputId": "a16ae164-7ece-4000-abca-692556c8c5db",
        "colab": {
          "base_uri": "https://localhost:8080/"
        }
      },
      "execution_count": 43,
      "outputs": [
        {
          "output_type": "stream",
          "name": "stdout",
          "text": [
            "Looking in indexes: https://pypi.org/simple, https://us-python.pkg.dev/colab-wheels/public/simple/\n",
            "Collecting pycrypto\n",
            "  Downloading pycrypto-2.6.1.tar.gz (446 kB)\n",
            "\u001b[K     |████████████████████████████████| 446 kB 5.0 MB/s \n",
            "\u001b[?25hBuilding wheels for collected packages: pycrypto\n",
            "  Building wheel for pycrypto (setup.py) ... \u001b[?25l\u001b[?25hdone\n",
            "  Created wheel for pycrypto: filename=pycrypto-2.6.1-cp37-cp37m-linux_x86_64.whl size=499932 sha256=4a7bde66357c25cc51a03dfa9e2a5449e160ee29f9c87f34b6574805115b99da\n",
            "  Stored in directory: /root/.cache/pip/wheels/cf/85/ba/bbd7c96add459de7598fb424e5ff2309baf2095c844ac0f191\n",
            "Successfully built pycrypto\n",
            "Installing collected packages: pycrypto\n",
            "Successfully installed pycrypto-2.6.1\n"
          ]
        }
      ]
    },
    {
      "cell_type": "code",
      "source": [
        "pip install requests_toolbelt"
      ],
      "metadata": {
        "id": "VhkYDcNoqoIk",
        "outputId": "6c53bc67-1bbd-49bf-aa2a-2a1c858a0d8e",
        "colab": {
          "base_uri": "https://localhost:8080/"
        }
      },
      "execution_count": 45,
      "outputs": [
        {
          "output_type": "stream",
          "name": "stdout",
          "text": [
            "Looking in indexes: https://pypi.org/simple, https://us-python.pkg.dev/colab-wheels/public/simple/\n",
            "Collecting requests_toolbelt\n",
            "  Downloading requests_toolbelt-0.10.1-py2.py3-none-any.whl (54 kB)\n",
            "\u001b[K     |████████████████████████████████| 54 kB 1.8 MB/s \n",
            "\u001b[?25hRequirement already satisfied: requests<3.0.0,>=2.0.1 in /usr/local/lib/python3.7/dist-packages (from requests_toolbelt) (2.23.0)\n",
            "Requirement already satisfied: chardet<4,>=3.0.2 in /usr/local/lib/python3.7/dist-packages (from requests<3.0.0,>=2.0.1->requests_toolbelt) (3.0.4)\n",
            "Requirement already satisfied: idna<3,>=2.5 in /usr/local/lib/python3.7/dist-packages (from requests<3.0.0,>=2.0.1->requests_toolbelt) (2.10)\n",
            "Requirement already satisfied: urllib3!=1.25.0,!=1.25.1,<1.26,>=1.21.1 in /usr/local/lib/python3.7/dist-packages (from requests<3.0.0,>=2.0.1->requests_toolbelt) (1.24.3)\n",
            "Requirement already satisfied: certifi>=2017.4.17 in /usr/local/lib/python3.7/dist-packages (from requests<3.0.0,>=2.0.1->requests_toolbelt) (2022.9.24)\n",
            "Installing collected packages: requests-toolbelt\n",
            "Successfully installed requests-toolbelt-0.10.1\n"
          ]
        }
      ]
    },
    {
      "cell_type": "code",
      "source": [
        "#Using firebase to import data to be tested\n",
        "from firebase import firebase\n",
        "firebase =firebase.FirebaseApplication('https://cropit-eb156.firebaseio.com/')\n",
        "tp=firebase.get('/Realtime',None)"
      ],
      "metadata": {
        "id": "9ktOjHZwn8Tg"
      },
      "execution_count": 61,
      "outputs": []
    },
    {
      "cell_type": "code",
      "source": [
        "ah=tp['Air Humidity']\n",
        "atemp=tp['Air Temp']\n",
        "shum=tp['Soil Humidity']\n",
        "pH=tp['Soil pH']\n",
        "rain=tp['Rainfall']\n"
      ],
      "metadata": {
        "id": "FNj52u54n8Wp"
      },
      "execution_count": 62,
      "outputs": []
    },
    {
      "cell_type": "code",
      "source": [
        "l=[]\n",
        "l.append(ah)\n",
        "l.append(atemp)\n",
        "l.append(pH)\n",
        "l.append(rain)\n",
        "predictcrop=[l]"
      ],
      "metadata": {
        "id": "Afh2Tptcn8Zp"
      },
      "execution_count": 63,
      "outputs": []
    },
    {
      "cell_type": "code",
      "source": [
        "# Putting the names of crop in a single list\n",
        "crops=['wheat','mungbean','Tea','millet','maize','lentil','jute','cofee','cotton','ground nut','peas','rubber','sugarcane','tobacco','kidney beans','moth beans','coconut','blackgram','adzuki beans','pigeon peas','chick peas','banana','grapes','apple','mango','muskmelon','orange','papaya','watermelon','pomegranate']\n",
        "cr='rice'"
      ],
      "metadata": {
        "id": "2xMM6WwWn8cu"
      },
      "execution_count": 64,
      "outputs": []
    },
    {
      "cell_type": "code",
      "source": [
        "#Predicting the crop\n",
        "predictions = clf.predict(predictcrop)\n",
        "count=0\n",
        "for i in range(0,30):\n",
        "    if(predictions[0][i]==1):\n",
        "        c=crops[i]\n",
        "        count=count+1\n",
        "        break;\n",
        "    i=i+1\n",
        "if(count==0):\n",
        "    print('The predicted crop is %s'%cr)\n",
        "else:\n",
        "    print('The predicted crop is %s'%c)"
      ],
      "metadata": {
        "colab": {
          "base_uri": "https://localhost:8080/"
        },
        "id": "Gi2TnkcSn8gK",
        "outputId": "0844cbef-d823-4f9a-dba3-103b6c32f5f4"
      },
      "execution_count": 65,
      "outputs": [
        {
          "output_type": "stream",
          "name": "stdout",
          "text": [
            "The predicted crop is mango\n"
          ]
        }
      ]
    },
    {
      "cell_type": "code",
      "source": [
        "#Sending the predicted crop to database\n",
        "cp=firebase.put('/croppredicted','crop',c)"
      ],
      "metadata": {
        "id": "CZL0Bl11sUT2"
      },
      "execution_count": 66,
      "outputs": []
    },
    {
      "cell_type": "code",
      "source": [],
      "metadata": {
        "id": "Jx_1TE498FjQ"
      },
      "execution_count": 66,
      "outputs": []
    }
  ],
  "metadata": {
    "colab": {
      "provenance": []
    },
    "kernelspec": {
      "display_name": "Python 3",
      "name": "python3"
    },
    "language_info": {
      "name": "python"
    }
  },
  "nbformat": 4,
  "nbformat_minor": 0
}