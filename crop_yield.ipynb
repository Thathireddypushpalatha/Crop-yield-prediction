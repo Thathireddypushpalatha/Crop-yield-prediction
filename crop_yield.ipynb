{
  "cells": [
    {
      "cell_type": "code",
      "execution_count": 1,
      "metadata": {
        "id": "C7WxT5eBmshp"
      },
      "outputs": [],
      "source": [
        "#importing the required libraries\n",
        "import pandas as pd\n",
        "import numpy as np\n",
        "from sklearn.model_selection import train_test_split"
      ]
    },
    {
      "cell_type": "code",
      "execution_count": 3,
      "metadata": {
        "colab": {
          "base_uri": "https://localhost:8080/"
        },
        "id": "WNfAGtm5msxE",
        "outputId": "de7c1c8c-827d-4c3b-9294-d1ea2a5fd24f"
      },
      "outputs": [
        {
          "output_type": "stream",
          "name": "stdout",
          "text": [
            "   temperature   humidity        ph    rainfall label\n",
            "0    20.879744  82.002744  6.502985  202.935536  rice\n"
          ]
        }
      ],
      "source": [
        "#Reading the csv file\n",
        "data=pd.read_csv('/content/cpdata.csv')\n",
        "print(data.head(1))"
      ]
    },
    {
      "cell_type": "code",
      "execution_count": 4,
      "metadata": {
        "colab": {
          "base_uri": "https://localhost:8080/"
        },
        "id": "CWBU7r52ms1O",
        "outputId": "b541e272-0292-4b92-c8cc-e51ff5a6b282"
      },
      "outputs": [
        {
          "output_type": "stream",
          "name": "stdout",
          "text": [
            "The data present in one row of the dataset is\n",
            "   temperature   humidity        ph    rainfall  Black gram  Chickpea  \\\n",
            "0    20.879744  82.002744  6.502985  202.935536           0         0   \n",
            "\n",
            "   Coconut  Coffee  Cotton  Ground Nut  ...  maize  mango  millet  muskmelon  \\\n",
            "0        0       0       0           0  ...      0      0       0          0   \n",
            "\n",
            "   orange  papaya  pomegranate  rice  watermelon  wheat  \n",
            "0       0       0            0     1           0      0  \n",
            "\n",
            "[1 rows x 34 columns]\n"
          ]
        }
      ],
      "source": [
        "#Creating dummy variable for target i.e label\n",
        "label= pd.get_dummies(data.label).iloc[: , 1:]\n",
        "data= pd.concat([data,label],axis=1)\n",
        "data.drop('label', axis=1,inplace=True)\n",
        "print('The data present in one row of the dataset is')\n",
        "print(data.head(1))\n",
        "train=data.iloc[:, 0:4].values\n",
        "test=data.iloc[: ,4:].values"
      ]
    },
    {
      "cell_type": "code",
      "execution_count": 6,
      "metadata": {
        "id": "qlmydEh6ms4m"
      },
      "outputs": [],
      "source": [
        "#Dividing the data into training and test set\n",
        "X_train,X_test,y_train,y_test=train_test_split(train,test,test_size=0.3)\n"
      ]
    },
    {
      "cell_type": "code",
      "execution_count": 7,
      "metadata": {
        "id": "4usyV7Fgms7i"
      },
      "outputs": [],
      "source": [
        "from sklearn.preprocessing import StandardScaler\n",
        "sc = StandardScaler()\n",
        "X_train = sc.fit_transform(X_train)\n",
        "X_test = sc.transform(X_test)"
      ]
    },
    {
      "cell_type": "code",
      "execution_count": 8,
      "metadata": {
        "id": "U777RGx9ms_J"
      },
      "outputs": [],
      "source": [
        "#Importing Decision Tree classifier\n",
        "from sklearn.tree import DecisionTreeRegressor\n",
        "clf=DecisionTreeRegressor()"
      ]
    },
    {
      "cell_type": "code",
      "execution_count": 9,
      "metadata": {
        "id": "i7AV8-Jbn8JS"
      },
      "outputs": [],
      "source": [
        "#Fitting the classifier into training set\n",
        "clf.fit(X_train,y_train)\n",
        "pred=clf.predict(X_test)"
      ]
    },
    {
      "cell_type": "code",
      "execution_count": 10,
      "metadata": {
        "colab": {
          "base_uri": "https://localhost:8080/"
        },
        "id": "Q_o2drGEn8M0",
        "outputId": "4e89ec27-9248-47f5-e473-b5c126b28675"
      },
      "outputs": [
        {
          "output_type": "stream",
          "name": "stdout",
          "text": [
            "The accuracy of this model is:  91.0752688172043\n"
          ]
        }
      ],
      "source": [
        "from sklearn.metrics import accuracy_score\n",
        "# Finding the accuracy of the model\n",
        "a=accuracy_score(y_test,pred)\n",
        "print(\"The accuracy of this model is: \", a*100)"
      ]
    },
    {
      "cell_type": "code",
      "execution_count": 12,
      "metadata": {
        "colab": {
          "base_uri": "https://localhost:8080/"
        },
        "id": "QSw4BnKapCeu",
        "outputId": "d4859e3b-648d-49a8-a0f9-2079b70c0aec"
      },
      "outputs": [
        {
          "output_type": "stream",
          "name": "stdout",
          "text": [
            "Looking in indexes: https://pypi.org/simple, https://us-python.pkg.dev/colab-wheels/public/simple/\n",
            "Collecting firebase\n",
            "  Downloading firebase-3.0.1-py3-none-any.whl (18 kB)\n",
            "Requirement already satisfied: requests in /usr/local/lib/python3.7/dist-packages (from firebase) (2.23.0)\n",
            "Requirement already satisfied: idna<3,>=2.5 in /usr/local/lib/python3.7/dist-packages (from requests->firebase) (2.10)\n",
            "Requirement already satisfied: chardet<4,>=3.0.2 in /usr/local/lib/python3.7/dist-packages (from requests->firebase) (3.0.4)\n",
            "Requirement already satisfied: urllib3!=1.25.0,!=1.25.1,<1.26,>=1.21.1 in /usr/local/lib/python3.7/dist-packages (from requests->firebase) (1.24.3)\n",
            "Requirement already satisfied: certifi>=2017.4.17 in /usr/local/lib/python3.7/dist-packages (from requests->firebase) (2022.9.24)\n",
            "Installing collected packages: firebase\n",
            "Successfully installed firebase-3.0.1\n"
          ]
        }
      ],
      "source": [
        "!pip install firebase"
      ]
    },
    {
      "cell_type": "code",
      "source": [
        "!pip install python_jwt"
      ],
      "metadata": {
        "colab": {
          "base_uri": "https://localhost:8080/"
        },
        "id": "S1GeN0kfcq-Q",
        "outputId": "51837c2e-1576-4339-99a6-73c5a8dc6a7b"
      },
      "execution_count": 14,
      "outputs": [
        {
          "output_type": "stream",
          "name": "stdout",
          "text": [
            "Looking in indexes: https://pypi.org/simple, https://us-python.pkg.dev/colab-wheels/public/simple/\n",
            "Collecting python_jwt\n",
            "  Downloading python_jwt-4.0.0-py2.py3-none-any.whl (7.0 kB)\n",
            "Collecting jwcrypto>=1.4.2\n",
            "  Downloading jwcrypto-1.4.2.tar.gz (85 kB)\n",
            "\u001b[K     |████████████████████████████████| 85 kB 5.4 MB/s \n",
            "\u001b[?25hCollecting cryptography>=2.3\n",
            "  Downloading cryptography-38.0.3-cp36-abi3-manylinux_2_24_x86_64.whl (4.1 MB)\n",
            "\u001b[K     |████████████████████████████████| 4.1 MB 58.1 MB/s \n",
            "\u001b[?25hCollecting deprecated\n",
            "  Downloading Deprecated-1.2.13-py2.py3-none-any.whl (9.6 kB)\n",
            "Requirement already satisfied: cffi>=1.12 in /usr/local/lib/python3.7/dist-packages (from cryptography>=2.3->jwcrypto>=1.4.2->python_jwt) (1.15.1)\n",
            "Requirement already satisfied: pycparser in /usr/local/lib/python3.7/dist-packages (from cffi>=1.12->cryptography>=2.3->jwcrypto>=1.4.2->python_jwt) (2.21)\n",
            "Requirement already satisfied: wrapt<2,>=1.10 in /usr/local/lib/python3.7/dist-packages (from deprecated->jwcrypto>=1.4.2->python_jwt) (1.14.1)\n",
            "Building wheels for collected packages: jwcrypto\n",
            "  Building wheel for jwcrypto (setup.py) ... \u001b[?25l\u001b[?25hdone\n",
            "  Created wheel for jwcrypto: filename=jwcrypto-1.4.2-py3-none-any.whl size=90486 sha256=96e703555b743f0883ebb522ff0672f27b2ba1816983f25b5bab4ce3ba7aac6c\n",
            "  Stored in directory: /root/.cache/pip/wheels/3d/17/91/970881ac21abbb42718c291ac9dce175450d53b17707788273\n",
            "Successfully built jwcrypto\n",
            "Installing collected packages: deprecated, cryptography, jwcrypto, python-jwt\n",
            "Successfully installed cryptography-38.0.3 deprecated-1.2.13 jwcrypto-1.4.2 python-jwt-4.0.0\n"
          ]
        }
      ]
    },
    {
      "cell_type": "code",
      "source": [
        "! pip install gcloud"
      ],
      "metadata": {
        "colab": {
          "base_uri": "https://localhost:8080/"
        },
        "id": "YqoYHvEic-65",
        "outputId": "e6acc96a-8744-4cc8-eb6e-097ddaa95913"
      },
      "execution_count": 17,
      "outputs": [
        {
          "output_type": "stream",
          "name": "stdout",
          "text": [
            "Looking in indexes: https://pypi.org/simple, https://us-python.pkg.dev/colab-wheels/public/simple/\n",
            "Collecting gcloud\n",
            "  Downloading gcloud-0.18.3.tar.gz (454 kB)\n",
            "\u001b[K     |████████████████████████████████| 454 kB 26.3 MB/s \n",
            "\u001b[?25hRequirement already satisfied: httplib2>=0.9.1 in /usr/local/lib/python3.7/dist-packages (from gcloud) (0.17.4)\n",
            "Requirement already satisfied: googleapis-common-protos in /usr/local/lib/python3.7/dist-packages (from gcloud) (1.57.0)\n",
            "Requirement already satisfied: oauth2client>=2.0.1 in /usr/local/lib/python3.7/dist-packages (from gcloud) (4.1.3)\n",
            "Requirement already satisfied: protobuf!=3.0.0.b2.post1,>=3.0.0b2 in /usr/local/lib/python3.7/dist-packages (from gcloud) (3.19.6)\n",
            "Requirement already satisfied: six in /usr/local/lib/python3.7/dist-packages (from gcloud) (1.15.0)\n",
            "Requirement already satisfied: pyasn1>=0.1.7 in /usr/local/lib/python3.7/dist-packages (from oauth2client>=2.0.1->gcloud) (0.4.8)\n",
            "Requirement already satisfied: rsa>=3.1.4 in /usr/local/lib/python3.7/dist-packages (from oauth2client>=2.0.1->gcloud) (4.9)\n",
            "Requirement already satisfied: pyasn1-modules>=0.0.5 in /usr/local/lib/python3.7/dist-packages (from oauth2client>=2.0.1->gcloud) (0.2.8)\n",
            "Building wheels for collected packages: gcloud\n",
            "  Building wheel for gcloud (setup.py) ... \u001b[?25l\u001b[?25hdone\n",
            "  Created wheel for gcloud: filename=gcloud-0.18.3-py3-none-any.whl size=602936 sha256=0afdd8c30e5df0f4adc5918b4f4a1ce159aa77cc485800792c33af2eb90d4155\n",
            "  Stored in directory: /root/.cache/pip/wheels/50/9d/19/dc1a639905431252dbf8a61388a83459c5cfef7add445bebe4\n",
            "Successfully built gcloud\n",
            "Installing collected packages: gcloud\n",
            "Successfully installed gcloud-0.18.3\n"
          ]
        }
      ]
    },
    {
      "cell_type": "code",
      "source": [
        "!pip install sseclient"
      ],
      "metadata": {
        "colab": {
          "base_uri": "https://localhost:8080/"
        },
        "id": "K1-lRb9IdaV8",
        "outputId": "dffdab88-32b3-43df-bb97-eead6c52a791"
      },
      "execution_count": 19,
      "outputs": [
        {
          "output_type": "stream",
          "name": "stdout",
          "text": [
            "Looking in indexes: https://pypi.org/simple, https://us-python.pkg.dev/colab-wheels/public/simple/\n",
            "Collecting sseclient\n",
            "  Downloading sseclient-0.0.27.tar.gz (7.5 kB)\n",
            "Requirement already satisfied: requests>=2.9 in /usr/local/lib/python3.7/dist-packages (from sseclient) (2.23.0)\n",
            "Requirement already satisfied: six in /usr/local/lib/python3.7/dist-packages (from sseclient) (1.15.0)\n",
            "Requirement already satisfied: idna<3,>=2.5 in /usr/local/lib/python3.7/dist-packages (from requests>=2.9->sseclient) (2.10)\n",
            "Requirement already satisfied: certifi>=2017.4.17 in /usr/local/lib/python3.7/dist-packages (from requests>=2.9->sseclient) (2022.9.24)\n",
            "Requirement already satisfied: urllib3!=1.25.0,!=1.25.1,<1.26,>=1.21.1 in /usr/local/lib/python3.7/dist-packages (from requests>=2.9->sseclient) (1.24.3)\n",
            "Requirement already satisfied: chardet<4,>=3.0.2 in /usr/local/lib/python3.7/dist-packages (from requests>=2.9->sseclient) (3.0.4)\n",
            "Building wheels for collected packages: sseclient\n",
            "  Building wheel for sseclient (setup.py) ... \u001b[?25l\u001b[?25hdone\n",
            "  Created wheel for sseclient: filename=sseclient-0.0.27-py3-none-any.whl size=5585 sha256=5f7218bcd65cac97427200d1fe4cf9dd4f802eb3b403fc2c08fc1cb136242894\n",
            "  Stored in directory: /root/.cache/pip/wheels/07/67/7e/96edf627ac746de1a5c5cbb8d59ed960f033b8352dc12c545d\n",
            "Successfully built sseclient\n",
            "Installing collected packages: sseclient\n",
            "Successfully installed sseclient-0.0.27\n"
          ]
        }
      ]
    },
    {
      "cell_type": "code",
      "source": [
        "! pip install pycrypto"
      ],
      "metadata": {
        "colab": {
          "base_uri": "https://localhost:8080/"
        },
        "id": "0o3Nek4AdaZH",
        "outputId": "e042686d-db56-4bfb-b209-706b98b73cc7"
      },
      "execution_count": 21,
      "outputs": [
        {
          "output_type": "stream",
          "name": "stdout",
          "text": [
            "Looking in indexes: https://pypi.org/simple, https://us-python.pkg.dev/colab-wheels/public/simple/\n",
            "Collecting pycrypto\n",
            "  Downloading pycrypto-2.6.1.tar.gz (446 kB)\n",
            "\u001b[?25l\r\u001b[K     |▊                               | 10 kB 35.0 MB/s eta 0:00:01\r\u001b[K     |█▌                              | 20 kB 33.7 MB/s eta 0:00:01\r\u001b[K     |██▏                             | 30 kB 42.5 MB/s eta 0:00:01\r\u001b[K     |███                             | 40 kB 21.9 MB/s eta 0:00:01\r\u001b[K     |███▊                            | 51 kB 25.8 MB/s eta 0:00:01\r\u001b[K     |████▍                           | 61 kB 29.8 MB/s eta 0:00:01\r\u001b[K     |█████▏                          | 71 kB 24.7 MB/s eta 0:00:01\r\u001b[K     |█████▉                          | 81 kB 27.1 MB/s eta 0:00:01\r\u001b[K     |██████▋                         | 92 kB 28.7 MB/s eta 0:00:01\r\u001b[K     |███████▍                        | 102 kB 29.6 MB/s eta 0:00:01\r\u001b[K     |████████                        | 112 kB 29.6 MB/s eta 0:00:01\r\u001b[K     |████████▉                       | 122 kB 29.6 MB/s eta 0:00:01\r\u001b[K     |█████████▌                      | 133 kB 29.6 MB/s eta 0:00:01\r\u001b[K     |██████████▎                     | 143 kB 29.6 MB/s eta 0:00:01\r\u001b[K     |███████████                     | 153 kB 29.6 MB/s eta 0:00:01\r\u001b[K     |███████████▊                    | 163 kB 29.6 MB/s eta 0:00:01\r\u001b[K     |████████████▌                   | 174 kB 29.6 MB/s eta 0:00:01\r\u001b[K     |█████████████▏                  | 184 kB 29.6 MB/s eta 0:00:01\r\u001b[K     |██████████████                  | 194 kB 29.6 MB/s eta 0:00:01\r\u001b[K     |██████████████▊                 | 204 kB 29.6 MB/s eta 0:00:01\r\u001b[K     |███████████████▍                | 215 kB 29.6 MB/s eta 0:00:01\r\u001b[K     |████████████████▏               | 225 kB 29.6 MB/s eta 0:00:01\r\u001b[K     |█████████████████               | 235 kB 29.6 MB/s eta 0:00:01\r\u001b[K     |█████████████████▋              | 245 kB 29.6 MB/s eta 0:00:01\r\u001b[K     |██████████████████▍             | 256 kB 29.6 MB/s eta 0:00:01\r\u001b[K     |███████████████████             | 266 kB 29.6 MB/s eta 0:00:01\r\u001b[K     |███████████████████▉            | 276 kB 29.6 MB/s eta 0:00:01\r\u001b[K     |████████████████████▋           | 286 kB 29.6 MB/s eta 0:00:01\r\u001b[K     |█████████████████████▎          | 296 kB 29.6 MB/s eta 0:00:01\r\u001b[K     |██████████████████████          | 307 kB 29.6 MB/s eta 0:00:01\r\u001b[K     |██████████████████████▊         | 317 kB 29.6 MB/s eta 0:00:01\r\u001b[K     |███████████████████████▌        | 327 kB 29.6 MB/s eta 0:00:01\r\u001b[K     |████████████████████████▎       | 337 kB 29.6 MB/s eta 0:00:01\r\u001b[K     |█████████████████████████       | 348 kB 29.6 MB/s eta 0:00:01\r\u001b[K     |█████████████████████████▊      | 358 kB 29.6 MB/s eta 0:00:01\r\u001b[K     |██████████████████████████▍     | 368 kB 29.6 MB/s eta 0:00:01\r\u001b[K     |███████████████████████████▏    | 378 kB 29.6 MB/s eta 0:00:01\r\u001b[K     |████████████████████████████    | 389 kB 29.6 MB/s eta 0:00:01\r\u001b[K     |████████████████████████████▋   | 399 kB 29.6 MB/s eta 0:00:01\r\u001b[K     |█████████████████████████████▍  | 409 kB 29.6 MB/s eta 0:00:01\r\u001b[K     |██████████████████████████████  | 419 kB 29.6 MB/s eta 0:00:01\r\u001b[K     |██████████████████████████████▉ | 430 kB 29.6 MB/s eta 0:00:01\r\u001b[K     |███████████████████████████████▋| 440 kB 29.6 MB/s eta 0:00:01\r\u001b[K     |████████████████████████████████| 446 kB 29.6 MB/s \n",
            "\u001b[?25hBuilding wheels for collected packages: pycrypto\n",
            "  Building wheel for pycrypto (setup.py) ... \u001b[?25l\u001b[?25hdone\n",
            "  Created wheel for pycrypto: filename=pycrypto-2.6.1-cp37-cp37m-linux_x86_64.whl size=499932 sha256=f9e0d838b78d6444d6d3985bfac9dbe20322786afae92015c518ef752b57fae6\n",
            "  Stored in directory: /root/.cache/pip/wheels/cf/85/ba/bbd7c96add459de7598fb424e5ff2309baf2095c844ac0f191\n",
            "Successfully built pycrypto\n",
            "Installing collected packages: pycrypto\n",
            "Successfully installed pycrypto-2.6.1\n"
          ]
        }
      ]
    },
    {
      "cell_type": "code",
      "source": [
        "!pip install requests_toolbelt"
      ],
      "metadata": {
        "colab": {
          "base_uri": "https://localhost:8080/"
        },
        "id": "LeeP6-Lkdack",
        "outputId": "2c9f0f01-0a1f-4d26-b763-abe0e495db43"
      },
      "execution_count": 23,
      "outputs": [
        {
          "output_type": "stream",
          "name": "stdout",
          "text": [
            "Looking in indexes: https://pypi.org/simple, https://us-python.pkg.dev/colab-wheels/public/simple/\n",
            "Collecting requests_toolbelt\n",
            "  Downloading requests_toolbelt-0.10.1-py2.py3-none-any.whl (54 kB)\n",
            "\u001b[?25l\r\u001b[K     |██████                          | 10 kB 27.2 MB/s eta 0:00:01\r\u001b[K     |████████████                    | 20 kB 32.1 MB/s eta 0:00:01\r\u001b[K     |██████████████████              | 30 kB 38.1 MB/s eta 0:00:01\r\u001b[K     |████████████████████████        | 40 kB 42.6 MB/s eta 0:00:01\r\u001b[K     |██████████████████████████████  | 51 kB 45.6 MB/s eta 0:00:01\r\u001b[K     |████████████████████████████████| 54 kB 3.5 MB/s \n",
            "\u001b[?25hRequirement already satisfied: requests<3.0.0,>=2.0.1 in /usr/local/lib/python3.7/dist-packages (from requests_toolbelt) (2.23.0)\n",
            "Requirement already satisfied: idna<3,>=2.5 in /usr/local/lib/python3.7/dist-packages (from requests<3.0.0,>=2.0.1->requests_toolbelt) (2.10)\n",
            "Requirement already satisfied: urllib3!=1.25.0,!=1.25.1,<1.26,>=1.21.1 in /usr/local/lib/python3.7/dist-packages (from requests<3.0.0,>=2.0.1->requests_toolbelt) (1.24.3)\n",
            "Requirement already satisfied: chardet<4,>=3.0.2 in /usr/local/lib/python3.7/dist-packages (from requests<3.0.0,>=2.0.1->requests_toolbelt) (3.0.4)\n",
            "Requirement already satisfied: certifi>=2017.4.17 in /usr/local/lib/python3.7/dist-packages (from requests<3.0.0,>=2.0.1->requests_toolbelt) (2022.9.24)\n",
            "Installing collected packages: requests-toolbelt\n",
            "Successfully installed requests-toolbelt-0.10.1\n"
          ]
        }
      ]
    },
    {
      "cell_type": "code",
      "execution_count": 24,
      "metadata": {
        "id": "9ktOjHZwn8Tg"
      },
      "outputs": [],
      "source": [
        "#Using firebase to import data to be tested\n",
        "from firebase import firebase\n",
        "firebase =firebase.FirebaseApplication('https://cropit-eb156.firebaseio.com/')\n",
        "tp=firebase.get('/Realtime',None)"
      ]
    },
    {
      "cell_type": "code",
      "execution_count": 25,
      "metadata": {
        "id": "FNj52u54n8Wp"
      },
      "outputs": [],
      "source": [
        "ah=tp['Air Humidity']\n",
        "atemp=tp['Air Temp']\n",
        "shum=tp['Soil Humidity']\n",
        "pH=tp['Soil pH']\n",
        "rain=tp['Rainfall']\n"
      ]
    },
    {
      "cell_type": "code",
      "execution_count": 27,
      "metadata": {
        "id": "Afh2Tptcn8Zp"
      },
      "outputs": [],
      "source": [
        "l=[]\n",
        "l.append(ah)\n",
        "l.append(atemp)\n",
        "l.append(pH)\n",
        "l.append(rain)\n",
        "predictcrop=[l]"
      ]
    },
    {
      "cell_type": "code",
      "execution_count": 28,
      "metadata": {
        "id": "2xMM6WwWn8cu"
      },
      "outputs": [],
      "source": [
        "# Putting the names of crop in a single list\n",
        "crops=['wheat','mungbean','Tea','millet','maize','lentil','jute','cofee','cotton','ground nut','peas','rubber','sugarcane','tobacco','kidney beans','moth beans','coconut','blackgram','adzuki beans','pigeon peas','chick peas','banana','grapes','apple','mango','muskmelon','orange','papaya','watermelon','pomegranate']\n",
        "cr='rice'"
      ]
    },
    {
      "cell_type": "code",
      "execution_count": 29,
      "metadata": {
        "id": "Gi2TnkcSn8gK",
        "colab": {
          "base_uri": "https://localhost:8080/"
        },
        "outputId": "a44b3f85-fe27-4d82-cbd9-486ca591b1c4"
      },
      "outputs": [
        {
          "output_type": "stream",
          "name": "stdout",
          "text": [
            "The predicted crop is muskmelon\n"
          ]
        }
      ],
      "source": [
        "#Predicting the crop\n",
        "predictions = clf.predict(predictcrop)\n",
        "count=0\n",
        "for i in range(0,30):\n",
        "    if(predictions[0][i]==1):\n",
        "        c=crops[i]\n",
        "        count=count+1\n",
        "        break;\n",
        "    i=i+1\n",
        "if(count==0):\n",
        "    print('The predicted crop is %s'%cr)\n",
        "else:\n",
        "    print('The predicted crop is %s'%c)"
      ]
    },
    {
      "cell_type": "code",
      "source": [
        "#Sending the predicted crop to database\n",
        "cp=firebase.put('/croppredicted','crop',c)"
      ],
      "metadata": {
        "id": "_nLwg7D0efeQ"
      },
      "execution_count": 30,
      "outputs": []
    },
    {
      "cell_type": "code",
      "source": [],
      "metadata": {
        "id": "U8aJYcpiesTE"
      },
      "execution_count": 30,
      "outputs": []
    }
  ],
  "metadata": {
    "colab": {
      "provenance": []
    },
    "kernelspec": {
      "display_name": "Python 3",
      "name": "python3"
    },
    "language_info": {
      "name": "python"
    }
  },
  "nbformat": 4,
  "nbformat_minor": 0
}